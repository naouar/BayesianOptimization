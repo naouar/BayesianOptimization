{
  "nbformat": 4,
  "nbformat_minor": 0,
  "metadata": {
    "colab": {
      "name": "Copy of stockdemo.ipynb",
      "version": "0.3.2",
      "provenance": [],
      "include_colab_link": true
    },
    "language_info": {
      "codemirror_mode": {
        "name": "ipython",
        "version": 2
      },
      "file_extension": ".py",
      "mimetype": "text/x-python",
      "name": "python",
      "nbconvert_exporter": "python",
      "pygments_lexer": "ipython2",
      "version": "2.7.12"
    },
    "kernelspec": {
      "display_name": "Python 2",
      "language": "python",
      "name": "python2"
    }
  },
  "cells": [
    {
      "cell_type": "markdown",
      "metadata": {
        "id": "view-in-github",
        "colab_type": "text"
      },
      "source": [
        "<a href=\"https://colab.research.google.com/github/naouar/BayesianOptimization/blob/master/Copy_of_stockdemo.ipynb\" target=\"_parent\"><img src=\"https://colab.research.google.com/assets/colab-badge.svg\" alt=\"Open In Colab\"/></a>"
      ]
    },
    {
      "cell_type": "code",
      "metadata": {
        "id": "aAX1iKk7wCIL",
        "colab_type": "code",
        "colab": {}
      },
      "source": [
        "from keras.layers.core import Dense, Activation, Dropout\n",
        "from keras.layers.recurrent import LSTM\n",
        "from keras.models import Sequential\n",
        "import lstm, time #helper libraries"
      ],
      "execution_count": 0,
      "outputs": []
    },
    {
      "cell_type": "code",
      "metadata": {
        "id": "3ULmrRy5wCIS",
        "colab_type": "code",
        "colab": {}
      },
      "source": [
        "#Step 1 Load Data\n",
        "X_train, y_train, X_test, y_test = lstm.load_data('sp500.csv', 50, True)"
      ],
      "execution_count": 0,
      "outputs": []
    },
    {
      "cell_type": "code",
      "metadata": {
        "id": "R6UeHCU9wCIW",
        "colab_type": "code",
        "outputId": "ae64774b-5568-4d56-df59-ca5257948335",
        "colab": {
          "base_uri": "https://localhost:8080/",
          "height": 159
        }
      },
      "source": [
        "#Step 2 Build Model\n",
        "model = Sequential()\n",
        "\n",
        "model.add(LSTM(\n",
        "    input_dim=1,\n",
        "    output_dim=50,\n",
        "    return_sequences=True))\n",
        "model.add(Dropout(0.2))\n",
        "\n",
        "model.add(LSTM(\n",
        "    100,\n",
        "    return_sequences=False))\n",
        "model.add(Dropout(0.2))\n",
        "\n",
        "model.add(Dense(\n",
        "    output_dim=1))\n",
        "model.add(Activation('linear'))\n",
        "\n",
        "start = time.time()\n",
        "model.compile(loss='mse', optimizer='rmsprop')\n",
        "print 'compilation time : ', time.time() - start"
      ],
      "execution_count": 4,
      "outputs": [
        {
          "output_type": "stream",
          "text": [
            "WARNING:tensorflow:From /usr/local/lib/python2.7/dist-packages/tensorflow/python/framework/op_def_library.py:263: colocate_with (from tensorflow.python.framework.ops) is deprecated and will be removed in a future version.\n",
            "Instructions for updating:\n",
            "Colocations handled automatically by placer.\n",
            "WARNING:tensorflow:From /usr/local/lib/python2.7/dist-packages/keras/backend/tensorflow_backend.py:3445: calling dropout (from tensorflow.python.ops.nn_ops) with keep_prob is deprecated and will be removed in a future version.\n",
            "Instructions for updating:\n",
            "Please use `rate` instead of `keep_prob`. Rate should be set to `rate = 1 - keep_prob`.\n",
            "compilation time :  0.0213479995728\n"
          ],
          "name": "stdout"
        }
      ]
    },
    {
      "cell_type": "code",
      "metadata": {
        "id": "kxnpk_gnwCIZ",
        "colab_type": "code",
        "outputId": "f72d5df4-00e9-4913-dca3-4897c9e0c288",
        "colab": {
          "base_uri": "https://localhost:8080/",
          "height": 159
        }
      },
      "source": [
        "#Step 3 Train the model\n",
        "model.fit(\n",
        "    X_train,\n",
        "    y_train,\n",
        "    batch_size=512,\n",
        "    nb_epoch=1,\n",
        "    validation_split=0.05)"
      ],
      "execution_count": 5,
      "outputs": [
        {
          "output_type": "stream",
          "text": [
            "WARNING:tensorflow:From /usr/local/lib/python2.7/dist-packages/tensorflow/python/ops/math_ops.py:3066: to_int32 (from tensorflow.python.ops.math_ops) is deprecated and will be removed in a future version.\n",
            "Instructions for updating:\n",
            "Use tf.cast instead.\n",
            "Train on 3523 samples, validate on 186 samples\n",
            "Epoch 1/1\n",
            "3523/3523 [==============================] - 7s 2ms/step - loss: 0.0026 - val_loss: 0.0014\n"
          ],
          "name": "stdout"
        },
        {
          "output_type": "execute_result",
          "data": {
            "text/plain": [
              "<keras.callbacks.History at 0x7f11e2b99550>"
            ]
          },
          "metadata": {
            "tags": []
          },
          "execution_count": 5
        }
      ]
    },
    {
      "cell_type": "code",
      "metadata": {
        "id": "htvMYdZuwCIc",
        "colab_type": "code",
        "outputId": "0185a981-8824-4f01-9c7e-970e06e65a8b",
        "colab": {
          "base_uri": "https://localhost:8080/",
          "height": 287
        }
      },
      "source": [
        "#Step 4 - Plot the predictions!\n",
        "predictions = lstm.predict_sequences_multiple(model, X_test, 50, 50)\n",
        "lstm.plot_results_multiple(predictions, y_test, 50)"
      ],
      "execution_count": 6,
      "outputs": [
        {
          "output_type": "stream",
          "text": [
            "yo\n"
          ],
          "name": "stdout"
        },
        {
          "output_type": "display_data",
          "data": {
            "image/png": "[encoded data removed]",
            "text/plain": [
              "<Figure size 432x288 with 1 Axes>"
            ]
          },
          "metadata": {
            "tags": []
          }
        }
      ]
    },
    {
      "cell_type": "code",
      "metadata": {
        "id": "XBms-RHdwCIf",
        "colab_type": "code",
        "colab": {
          "base_uri": "https://localhost:8080/",
          "height": 121
        },
        "outputId": "48a55a37-ba95-49a4-fa3f-ca848d674664"
      },
      "source": [
        "!pip install newsapi-python"
      ],
      "execution_count": 19,
      "outputs": [
        {
          "output_type": "stream",
          "text": [
            "Requirement already satisfied: newsapi-python in /usr/local/lib/python2.7/dist-packages (0.2.3)\n",
            "Requirement already satisfied: requests==2.17.1 in /usr/local/lib/python2.7/dist-packages (from newsapi-python) (2.17.1)\n",
            "Requirement already satisfied: urllib3<1.22,>=1.21.1 in /usr/local/lib/python2.7/dist-packages (from requests==2.17.1->newsapi-python) (1.21.1)\n",
            "Requirement already satisfied: idna<2.6,>=2.5 in /usr/local/lib/python2.7/dist-packages (from requests==2.17.1->newsapi-python) (2.5)\n",
            "Requirement already satisfied: certifi>=2017.4.17 in /usr/local/lib/python2.7/dist-packages (from requests==2.17.1->newsapi-python) (2019.3.9)\n",
            "Requirement already satisfied: chardet<3.1.0,>=3.0.2 in /usr/local/lib/python2.7/dist-packages (from requests==2.17.1->newsapi-python) (3.0.4)\n"
          ],
          "name": "stdout"
        }
      ]
    },
    {
      "cell_type": "code",
      "metadata": {
        "id": "ZQoyYSue0XXo",
        "colab_type": "code",
        "colab": {
          "base_uri": "https://localhost:8080/",
          "height": 131
        },
        "outputId": "fa591ee7-8a08-43e9-bc3a-1db1c3a0d4de"
      },
      "source": [
        "from newsapi import NewsApiClient\n",
        "\n",
        "# Init\n",
        "newsapi = NewsApiClient(api_key='545923a917bf4946a30361d95b216891')\n",
        "\n",
        "# /v2/top-headlines\n",
        "#top_headlines = newsapi.get_top_headlines(q='bitcoin',\n",
        " #                                         sources='bbc-news,the-verge',\n",
        "  #                                        category='business',\n",
        "   #                                       language='en',\n",
        "    #                                      country='us')\n",
        "\n",
        "# /v2/everything\n",
        "all_articles = newsapi.get_everything(q='bitcoin',\n",
        "                                     sources='bbc-news,the-verge',\n",
        "                                    domains='bbc.co.uk,techcrunch.com',\n",
        "                                   from_param='2017-12-01',\n",
        "                                  to='2017-12-12',\n",
        "                                 language='en',\n",
        "                                sort_by='relevancy',\n",
        "                               page=2)\n",
        "\n",
        "# /v2/sources\n",
        "sources = newsapi.get_sources()\n",
        "Need to talk to someone? Em"
      ],
      "execution_count": 23,
      "outputs": [
        {
          "output_type": "error",
          "ename": "SyntaxError",
          "evalue": "ignored",
          "traceback": [
            "\u001b[0;36m  File \u001b[0;32m\"<ipython-input-23-f90dcf748eeb>\"\u001b[0;36m, line \u001b[0;32m25\u001b[0m\n\u001b[0;31m    Need to talk to someone? Em\u001b[0m\n\u001b[0m          ^\u001b[0m\n\u001b[0;31mSyntaxError\u001b[0m\u001b[0;31m:\u001b[0m invalid syntax\n"
          ]
        }
      ]
    }
  ]
}